{
 "cells": [
  {
   "cell_type": "markdown",
   "id": "illegal-southeast",
   "metadata": {},
   "source": [
    "# Jaccard index implementation comparison\n",
    "\n",
    "This is an attempt to compare two different methods of calculating the Jaccard index (direct set operations vs. iterating over underlying hashes/elements and counting to avoid some of the set operations)."
   ]
  },
  {
   "cell_type": "code",
   "execution_count": 1,
   "id": "major-kernel",
   "metadata": {},
   "outputs": [
    {
     "name": "stdout",
     "output_type": "stream",
     "text": [
      "{'hash_samples': {0: {3},\n",
      "                  3: {0, 1, 2},\n",
      "                  4: {1},\n",
      "                  11: {1, 4},\n",
      "                  12: {4},\n",
      "                  13: {0, 4},\n",
      "                  14: {0},\n",
      "                  17: {0},\n",
      "                  19: {3},\n",
      "                  20: {3},\n",
      "                  25: {2},\n",
      "                  27: {1, 4},\n",
      "                  28: {0, 2},\n",
      "                  29: {1},\n",
      "                  31: {0},\n",
      "                  35: {0, 3},\n",
      "                  43: {3, 4},\n",
      "                  44: {4},\n",
      "                  45: {4},\n",
      "                  48: {4},\n",
      "                  53: {2},\n",
      "                  54: {1, 3},\n",
      "                  57: {3},\n",
      "                  64: {1},\n",
      "                  69: {1, 2},\n",
      "                  71: {2},\n",
      "                  75: {1, 3},\n",
      "                  77: {2, 4},\n",
      "                  81: {0},\n",
      "                  83: {2},\n",
      "                  86: {0},\n",
      "                  89: {2, 3},\n",
      "                  91: {2},\n",
      "                  94: {0, 1},\n",
      "                  97: {3, 4}},\n",
      " 'sample_hashes': [{3, 35, 13, 14, 81, 17, 86, 28, 94, 31},\n",
      "                   {64, 3, 4, 69, 75, 11, 54, 27, 29, 94},\n",
      "                   {89, 3, 69, 71, 77, 83, 53, 25, 91, 28},\n",
      "                   {0, 97, 89, 35, 75, 43, 19, 20, 54, 57},\n",
      "                   {97, 11, 43, 13, 12, 45, 48, 44, 77, 27}]}\n"
     ]
    }
   ],
   "source": [
    "import random\n",
    "import pprint\n",
    "\n",
    "num_hashes = 10\n",
    "max_hash = 100\n",
    "num_samples = 10\n",
    "timing_repeats = 5\n",
    "timing_iterations = 1000\n",
    "\n",
    "def build_sample_hashes(num_samples, num_hashes, max_hash):\n",
    "    random.seed(42)\n",
    "\n",
    "    sample_hashes = []\n",
    "    for sample in range(num_samples):\n",
    "        sample_hashes.append(set(random.sample(range(max_hash), num_hashes)))\n",
    "    return sample_hashes\n",
    "\n",
    "def build_hash_samples(sample_hashes):\n",
    "    hash_samples = {}\n",
    "\n",
    "    for s in range(0,len(sample_hashes)):\n",
    "        for h in sample_hashes[s]:\n",
    "            if h not in hash_samples:\n",
    "                hash_samples[h] = {s}\n",
    "            else:\n",
    "                hash_samples[h].add(s)\n",
    "    return hash_samples\n",
    "\n",
    "def build_data_structures(num_samples, num_hashes, max_hash):\n",
    "    sample_hashes = build_sample_hashes(num_samples=num_samples, num_hashes=num_hashes, max_hash=max_hash)\n",
    "    hash_samples = build_hash_samples(sample_hashes)\n",
    "    \n",
    "    return {\n",
    "        'sample_hashes': sample_hashes,\n",
    "        'hash_samples': hash_samples\n",
    "    }\n",
    "\n",
    "# Build small data structure to show what it does\n",
    "pprint.pprint(build_data_structures(num_samples=5, num_hashes=10, max_hash=max_hash))\n",
    "\n",
    "# Build larger data structure to test below functions\n",
    "data_structures = build_data_structures(num_samples=num_samples, num_hashes=num_hashes, max_hash=max_hash)"
   ]
  },
  {
   "cell_type": "markdown",
   "id": "patent-perception",
   "metadata": {},
   "source": [
    "Here, we have two data structures representing the same data:\n",
    "\n",
    "1. `sample_hashes`: maps a sample (as an index into a list, e.g. `0` is 0-th sample and so on).\n",
    "2. `hash_samples`: maps a hash to a set of samples containing this hash.\n",
    "\n",
    "My goal is to test two different methods to measure the Jaccard distance using these two data structures to see how they perform."
   ]
  },
  {
   "cell_type": "markdown",
   "id": "threatened-minister",
   "metadata": {},
   "source": [
    "Below I implement a wrapper to wrap functions with arguments for `timeit` (see https://www.pythoncentral.io/time-a-python-function/) and generate some stats for plotting."
   ]
  },
  {
   "cell_type": "code",
   "execution_count": 2,
   "id": "solved-encounter",
   "metadata": {},
   "outputs": [
    {
     "data": {
      "text/plain": [
       "{'mean': 0.003894980001496151,\n",
       " 'median': 0.003929500002413988,\n",
       " 'stdev': 0.0004691904417221884,\n",
       " 'results': 50,\n",
       " 'label': 'test'}"
      ]
     },
     "execution_count": 2,
     "metadata": {},
     "output_type": "execute_result"
    }
   ],
   "source": [
    "import timeit\n",
    "from statistics import mean, stdev, median, quantiles\n",
    "\n",
    "def wrapper(func, *args, **kwargs):\n",
    "    def wrapped():\n",
    "        return func(*args, **kwargs)\n",
    "    return wrapped\n",
    "\n",
    "def stats(values):\n",
    "    return {\n",
    "        'mean': mean(values),\n",
    "        'median': median(values),\n",
    "        'stdev': stdev(values)\n",
    "    }\n",
    "\n",
    "def do_timing(func, iterations, repeat, label):\n",
    "    results = func()\n",
    "    return_table = stats(timeit.repeat(func, number=iterations, repeat=repeat))\n",
    "    return_table['results'] = results\n",
    "    return_table['label'] = label\n",
    "    return return_table\n",
    "\n",
    "test_wrapper = wrapper(mean, range(1,100))\n",
    "do_timing(test_wrapper, iterations=100, repeat=5, label='test')"
   ]
  },
  {
   "cell_type": "markdown",
   "id": "together-destination",
   "metadata": {},
   "source": [
    "# Jaccard by iterating over samples"
   ]
  },
  {
   "cell_type": "code",
   "execution_count": 3,
   "id": "average-penguin",
   "metadata": {},
   "outputs": [
    {
     "data": {
      "text/plain": [
       "[1.0,\n",
       " 0.1111111111111111,\n",
       " 0.1111111111111111,\n",
       " 0.05263157894736842,\n",
       " 0.05263157894736842,\n",
       " 0.0,\n",
       " 0.0,\n",
       " 0.1111111111111111,\n",
       " 0.0,\n",
       " 0.1111111111111111]"
      ]
     },
     "execution_count": 3,
     "metadata": {},
     "output_type": "execute_result"
    }
   ],
   "source": [
    "def regular_jaccard_index(query_sample, sample_hashes):\n",
    "    query_sample = 0\n",
    "    jaccard_values = []\n",
    "    for s in range(0,len(sample_hashes)):\n",
    "        query_sample_hashes = sample_hashes[query_sample]\n",
    "        comparison_sample_hashes = sample_hashes[s]\n",
    "\n",
    "        jaccard = len(query_sample_hashes & comparison_sample_hashes) / len(query_sample_hashes | comparison_sample_hashes)\n",
    "        jaccard_values.append(jaccard)\n",
    "        \n",
    "    return jaccard_values\n",
    "\n",
    "regular_jaccard_index(query_sample=0, sample_hashes=data_structures['sample_hashes'])"
   ]
  },
  {
   "cell_type": "markdown",
   "id": "collected-turtle",
   "metadata": {},
   "source": [
    "# Jaccard index by iterating over hashes"
   ]
  },
  {
   "cell_type": "code",
   "execution_count": 4,
   "id": "bizarre-beijing",
   "metadata": {},
   "outputs": [
    {
     "data": {
      "text/plain": [
       "[1.0,\n",
       " 0.1111111111111111,\n",
       " 0.1111111111111111,\n",
       " 0.05263157894736842,\n",
       " 0.05263157894736842,\n",
       " 0,\n",
       " 0,\n",
       " 0.1111111111111111,\n",
       " 0,\n",
       " 0.1111111111111111]"
      ]
     },
     "execution_count": 4,
     "metadata": {},
     "output_type": "execute_result"
    }
   ],
   "source": [
    "def inverted_jaccard_index(query_sample, hash_samples, sample_hashes, num_samples, num_hashes):\n",
    "    query_hashes = sample_hashes[query_sample]\n",
    "    sample_hash_counts = {}\n",
    "    for qh in query_hashes:\n",
    "        for s in hash_samples[qh]:\n",
    "            if s not in sample_hash_counts:\n",
    "                sample_hash_counts[s] = 1\n",
    "            else:\n",
    "                sample_hash_counts[s] += 1\n",
    "    jaccard_values = []\n",
    "    for s in range(0,num_samples):\n",
    "        if s in sample_hash_counts:\n",
    "            num_intersection = sample_hash_counts[s]\n",
    "            jaccard_value = (num_intersection) / (2*num_hashes - num_intersection)\n",
    "            jaccard_values.append(jaccard_value)\n",
    "        else:\n",
    "            jaccard_values.append(0)\n",
    "    return jaccard_values\n",
    "\n",
    "inverted_jaccard_index(0, data_structures['hash_samples'], data_structures['sample_hashes'], num_samples, num_hashes)"
   ]
  },
  {
   "cell_type": "markdown",
   "id": "incorporated-bowling",
   "metadata": {},
   "source": [
    "# Comparison\n",
    "\n",
    "Now, let's compare both methods."
   ]
  },
  {
   "cell_type": "code",
   "execution_count": 5,
   "id": "administrative-witness",
   "metadata": {},
   "outputs": [
    {
     "data": {
      "text/html": [
       "<div>\n",
       "<style scoped>\n",
       "    .dataframe tbody tr th:only-of-type {\n",
       "        vertical-align: middle;\n",
       "    }\n",
       "\n",
       "    .dataframe tbody tr th {\n",
       "        vertical-align: top;\n",
       "    }\n",
       "\n",
       "    .dataframe thead th {\n",
       "        text-align: right;\n",
       "    }\n",
       "</style>\n",
       "<table border=\"1\" class=\"dataframe\">\n",
       "  <thead>\n",
       "    <tr style=\"text-align: right;\">\n",
       "      <th></th>\n",
       "      <th>mean</th>\n",
       "      <th>median</th>\n",
       "      <th>stdev</th>\n",
       "      <th>label</th>\n",
       "      <th>Number of Samples</th>\n",
       "      <th>Number of hashes</th>\n",
       "    </tr>\n",
       "  </thead>\n",
       "  <tbody>\n",
       "    <tr>\n",
       "      <th>0</th>\n",
       "      <td>0.000458</td>\n",
       "      <td>0.000453</td>\n",
       "      <td>0.000008</td>\n",
       "      <td>Regular Jaccard Index</td>\n",
       "      <td>10</td>\n",
       "      <td>10</td>\n",
       "    </tr>\n",
       "    <tr>\n",
       "      <th>1</th>\n",
       "      <td>0.000279</td>\n",
       "      <td>0.000276</td>\n",
       "      <td>0.000007</td>\n",
       "      <td>Inverted Jaccard Index</td>\n",
       "      <td>10</td>\n",
       "      <td>10</td>\n",
       "    </tr>\n",
       "    <tr>\n",
       "      <th>2</th>\n",
       "      <td>0.001066</td>\n",
       "      <td>0.001063</td>\n",
       "      <td>0.000066</td>\n",
       "      <td>Regular Jaccard Index</td>\n",
       "      <td>20</td>\n",
       "      <td>10</td>\n",
       "    </tr>\n",
       "    <tr>\n",
       "      <th>3</th>\n",
       "      <td>0.000546</td>\n",
       "      <td>0.000549</td>\n",
       "      <td>0.000064</td>\n",
       "      <td>Inverted Jaccard Index</td>\n",
       "      <td>20</td>\n",
       "      <td>10</td>\n",
       "    </tr>\n",
       "    <tr>\n",
       "      <th>4</th>\n",
       "      <td>0.001483</td>\n",
       "      <td>0.001466</td>\n",
       "      <td>0.000061</td>\n",
       "      <td>Regular Jaccard Index</td>\n",
       "      <td>30</td>\n",
       "      <td>10</td>\n",
       "    </tr>\n",
       "    <tr>\n",
       "      <th>...</th>\n",
       "      <td>...</td>\n",
       "      <td>...</td>\n",
       "      <td>...</td>\n",
       "      <td>...</td>\n",
       "      <td>...</td>\n",
       "      <td>...</td>\n",
       "    </tr>\n",
       "    <tr>\n",
       "      <th>67</th>\n",
       "      <td>0.056557</td>\n",
       "      <td>0.058763</td>\n",
       "      <td>0.008212</td>\n",
       "      <td>Inverted Jaccard Index</td>\n",
       "      <td>70</td>\n",
       "      <td>100</td>\n",
       "    </tr>\n",
       "    <tr>\n",
       "      <th>68</th>\n",
       "      <td>0.026441</td>\n",
       "      <td>0.026293</td>\n",
       "      <td>0.001376</td>\n",
       "      <td>Regular Jaccard Index</td>\n",
       "      <td>80</td>\n",
       "      <td>100</td>\n",
       "    </tr>\n",
       "    <tr>\n",
       "      <th>69</th>\n",
       "      <td>0.057176</td>\n",
       "      <td>0.056830</td>\n",
       "      <td>0.007855</td>\n",
       "      <td>Inverted Jaccard Index</td>\n",
       "      <td>80</td>\n",
       "      <td>100</td>\n",
       "    </tr>\n",
       "    <tr>\n",
       "      <th>70</th>\n",
       "      <td>0.025104</td>\n",
       "      <td>0.025155</td>\n",
       "      <td>0.000402</td>\n",
       "      <td>Regular Jaccard Index</td>\n",
       "      <td>90</td>\n",
       "      <td>100</td>\n",
       "    </tr>\n",
       "    <tr>\n",
       "      <th>71</th>\n",
       "      <td>0.057383</td>\n",
       "      <td>0.056829</td>\n",
       "      <td>0.002916</td>\n",
       "      <td>Inverted Jaccard Index</td>\n",
       "      <td>90</td>\n",
       "      <td>100</td>\n",
       "    </tr>\n",
       "  </tbody>\n",
       "</table>\n",
       "<p>72 rows × 6 columns</p>\n",
       "</div>"
      ],
      "text/plain": [
       "        mean    median     stdev                   label  Number of Samples  \\\n",
       "0   0.000458  0.000453  0.000008   Regular Jaccard Index                 10   \n",
       "1   0.000279  0.000276  0.000007  Inverted Jaccard Index                 10   \n",
       "2   0.001066  0.001063  0.000066   Regular Jaccard Index                 20   \n",
       "3   0.000546  0.000549  0.000064  Inverted Jaccard Index                 20   \n",
       "4   0.001483  0.001466  0.000061   Regular Jaccard Index                 30   \n",
       "..       ...       ...       ...                     ...                ...   \n",
       "67  0.056557  0.058763  0.008212  Inverted Jaccard Index                 70   \n",
       "68  0.026441  0.026293  0.001376   Regular Jaccard Index                 80   \n",
       "69  0.057176  0.056830  0.007855  Inverted Jaccard Index                 80   \n",
       "70  0.025104  0.025155  0.000402   Regular Jaccard Index                 90   \n",
       "71  0.057383  0.056829  0.002916  Inverted Jaccard Index                 90   \n",
       "\n",
       "    Number of hashes  \n",
       "0                 10  \n",
       "1                 10  \n",
       "2                 10  \n",
       "3                 10  \n",
       "4                 10  \n",
       "..               ...  \n",
       "67               100  \n",
       "68               100  \n",
       "69               100  \n",
       "70               100  \n",
       "71               100  \n",
       "\n",
       "[72 rows x 6 columns]"
      ]
     },
     "execution_count": 5,
     "metadata": {},
     "output_type": "execute_result"
    }
   ],
   "source": [
    "import pandas as pd\n",
    "\n",
    "def comparisons():\n",
    "    num_samples = 5\n",
    "    num_hashes = 100\n",
    "    max_hash = 100\n",
    "    query_sample = 0\n",
    "    repeat = 5\n",
    "    iterations = 100\n",
    "    \n",
    "    timing_results = []\n",
    "    \n",
    "    for num_hashes in [10, 20, 50, 100]:\n",
    "        for num_samples in range(10,100,10):\n",
    "            data_structures = build_data_structures(num_samples=num_samples, num_hashes=num_hashes, max_hash=max_hash)\n",
    "\n",
    "            regular_jaccard = wrapper(regular_jaccard_index, query_sample=query_sample, sample_hashes=data_structures['sample_hashes'])\n",
    "            inverted_jaccard = wrapper(inverted_jaccard_index, query_sample=query_sample, hash_samples=data_structures['hash_samples'],\n",
    "                                       sample_hashes=data_structures['sample_hashes'], num_samples=num_samples, num_hashes=num_hashes)\n",
    "\n",
    "            regular_results = do_timing(regular_jaccard, iterations=iterations, repeat=repeat, label='Regular Jaccard Index')\n",
    "            inverted_results = do_timing(inverted_jaccard, iterations=iterations, repeat=repeat, label='Inverted Jaccard Index')\n",
    "\n",
    "            # Verifies that my results are identical in both implementations\n",
    "            assert regular_results['results'] == inverted_results['results']\n",
    "\n",
    "            # Now remove results from dictionary since I don't need them for plotting\n",
    "            del regular_results['results']\n",
    "            del inverted_results['results']\n",
    "\n",
    "            regular_results['Number of Samples'] = num_samples\n",
    "            inverted_results['Number of Samples'] = num_samples\n",
    "            \n",
    "            regular_results['Number of hashes'] = num_hashes\n",
    "            inverted_results['Number of hashes'] = num_hashes\n",
    "\n",
    "            timing_results.append(regular_results)\n",
    "            timing_results.append(inverted_results)\n",
    "    \n",
    "    return pd.DataFrame(timing_results)\n",
    "    \n",
    "results_df = comparisons()\n",
    "results_df"
   ]
  },
  {
   "cell_type": "code",
   "execution_count": 6,
   "id": "cross-ghana",
   "metadata": {},
   "outputs": [
    {
     "data": {
      "text/plain": [
       "<AxesSubplot:title={'center':'Comparison of runtime of two methods for Jaccard index'}, xlabel='Number of hashes', ylabel='Runtime (seconds)'>"
      ]
     },
     "execution_count": 6,
     "metadata": {},
     "output_type": "execute_result"
    },
    {
     "data": {
      "image/png": "[encoded data removed]",
      "text/plain": [
       "<Figure size 864x360 with 1 Axes>"
      ]
     },
     "metadata": {
      "needs_background": "light"
     },
     "output_type": "display_data"
    }
   ],
   "source": [
    "import matplotlib\n",
    "import matplotlib.pyplot as plt\n",
    "\n",
    "plt.rcParams.update({\n",
    "    'font.size': 18,\n",
    "    'legend.fontsize': 14\n",
    "})\n",
    "\n",
    "def make_plot(plotting_label, constant_label, constant_value):\n",
    "    plot_df = results_df[results_df[constant_label] == constant_value]\n",
    "    plot_df = plot_df[['mean', 'label', plotting_label]].set_index([plotting_label, 'label']).unstack(-1)\n",
    "    plot_df.columns = plot_df.columns.droplevel()\n",
    "    plot_df.columns.name = None\n",
    "\n",
    "    axes = plot_df.plot(kind='line', figsize=(12,5), marker='o')\n",
    "    axes.set_ylabel('Runtime (seconds)')\n",
    "    axes.set_title('Comparison of runtime of two methods for Jaccard index')\n",
    "    return axes\n",
    "\n",
    "make_plot(plotting_label='Number of hashes', constant_label='Number of Samples', constant_value=90)"
   ]
  },
  {
   "cell_type": "code",
   "execution_count": 7,
   "id": "italian-expense",
   "metadata": {},
   "outputs": [
    {
     "data": {
      "text/plain": [
       "<AxesSubplot:title={'center':'Comparison of runtime of two methods for Jaccard index'}, xlabel='Number of Samples', ylabel='Runtime (seconds)'>"
      ]
     },
     "execution_count": 7,
     "metadata": {},
     "output_type": "execute_result"
    },
    {
     "data": {
      "image/png": "[encoded data removed]",
      "text/plain": [
       "<Figure size 864x360 with 1 Axes>"
      ]
     },
     "metadata": {
      "needs_background": "light"
     },
     "output_type": "display_data"
    }
   ],
   "source": [
    "make_plot(plotting_label='Number of Samples', constant_label='Number of hashes', constant_value=10)"
   ]
  }
 ],
 "metadata": {
  "kernelspec": {
   "display_name": "Python 3",
   "language": "python",
   "name": "python3"
  },
  "language_info": {
   "codemirror_mode": {
    "name": "ipython",
    "version": 3
   },
   "file_extension": ".py",
   "mimetype": "text/x-python",
   "name": "python",
   "nbconvert_exporter": "python",
   "pygments_lexer": "ipython3",
   "version": "3.8.6"
  }
 },
 "nbformat": 4,
 "nbformat_minor": 5
}
